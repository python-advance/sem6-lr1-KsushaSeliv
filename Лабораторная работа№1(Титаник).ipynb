{
 "cells": [
  {
   "cell_type": "code",
   "execution_count": 2,
   "metadata": {
    "collapsed": true
   },
   "outputs": [],
   "source": [
    "#Скачайте train (обучающий) набор данных о пассажирах Титаника.\n",
    "#С использованием кода на Python найдите ответы на вопросы."
   ]
  },
  {
   "cell_type": "code",
   "execution_count": 2,
   "metadata": {},
   "outputs": [],
   "source": [
    "import pandas as pd #импорт библиотеки pandas (высокоуровневая Python библиотека для анализа данных.)\n",
    "Res = pd.read_csv('train.csv') #считываем csv-файл\n"
   ]
  },
  {
   "cell_type": "code",
   "execution_count": 10,
   "metadata": {},
   "outputs": [
    {
     "name": "stdout",
     "output_type": "stream",
     "text": [
      "168 77 644 "
     ]
    }
   ],
   "source": [
    "#1.Подсчитайте сколько пассажиров загрузилось на борт в различных портах? Приведите три числа через пробел.\n",
    "\n",
    "Port = (Res.groupby(['Embarked'])['PassengerId'].count()) #группировка по портам и пассажирам\n",
    "for pas in list(Port):\n",
    "    print (pas, end = ' ')"
   ]
  },
  {
   "cell_type": "code",
   "execution_count": 21,
   "metadata": {},
   "outputs": [
    {
     "name": "stdout",
     "output_type": "stream",
     "text": [
      "Embarked\n",
      "C    168\n",
      "Q     77\n",
      "S    644\n",
      "Name: PassengerId, dtype: int64\n"
     ]
    }
   ],
   "source": [
    "#или так...Здесь уже видно название портов:C,Q,S\n",
    "print(Res.groupby(['Embarked'])['PassengerId'].count())"
   ]
  },
  {
   "cell_type": "code",
   "execution_count": 41,
   "metadata": {},
   "outputs": [
    {
     "name": "stdout",
     "output_type": "stream",
     "text": [
      "0.24 0.21 0.55 "
     ]
    }
   ],
   "source": [
    "#2.Какие доли составляли пассажиры первого, второго, третьего класса?\n",
    "\n",
    "def Dolya (x):\n",
    "    k=0\n",
    "    for pr in x:\n",
    "        k = k + pr\n",
    "    for ls in x:\n",
    "        print (\"%.2f\" % (ls/k), end = ' ')\n",
    "\n",
    "ls = list((Res.groupby(['Pclass'])['PassengerId'].count())) #группировка по классам и пассажирам и в список\n",
    "Dolya (ls)"
   ]
  },
  {
   "cell_type": "code",
   "execution_count": 120,
   "metadata": {},
   "outputs": [
    {
     "data": {
      "text/plain": [
       "Pclass\n",
       "1    0.242424\n",
       "2    0.206510\n",
       "3    0.551066\n",
       "dtype: float64"
      ]
     },
     "execution_count": 120,
     "metadata": {},
     "output_type": "execute_result"
    }
   ],
   "source": [
    "#или так...всего одна строчка\n",
    "Res.groupby('Pclass').size() / len(Res)"
   ]
  },
  {
   "cell_type": "code",
   "execution_count": 130,
   "metadata": {},
   "outputs": [
    {
     "name": "stdout",
     "output_type": "stream",
     "text": [
      "-0.54\n",
      "-0.34\n",
      "-0.08\n"
     ]
    }
   ],
   "source": [
    "#3.Выясните есть ли корреляция (вычислите коэффициент корреляции Пирсона) между:\n",
    "#-возрастом и параметром survival;\n",
    "#-полом человека и параметром survival;\n",
    "#-классом, в котором пассажир ехал, и параметром survival.\n",
    "\n",
    "#Корреляционная связь, означает, что изменения одного показателя сопровождаются изменениями другого показателя.\n",
    "#абсолютные значения k < 0.3 свидетельствуют о слабой связи,\n",
    "#значения k от 0.3 до 0.7 - о связи средней тесноты,\n",
    "#значения k > 0.7 - о сильной связи.\n",
    "\n",
    "sex = list(Res['Sex']) #превращаем все значения 'Sex' из таблицы в список\n",
    "dlina = len(sex) #получаем количество элементов списка\n",
    "\n",
    "for i in range(dlina): #проходимся по каждому элементу списка\n",
    "    if sex[i] == 'male': #если пол человека мужской, то приравниваем к 1, если женский, то к 0\n",
    "        sex[i] = 1\n",
    "    else:\n",
    "        sex[i] = 0\n",
    "\n",
    "pol = pd.DataFrame({'Sex':sex})\n",
    "\n",
    "a1 = (pol['Sex'].corr(Res['Survived'])) #коэффициент коррелляции между полом и выжившими\n",
    "b1 = (Res['Pclass'].corr(Res['Survived'])) #коэффициент корреляции между классом кабин и выжившими\n",
    "c1 = (Res['Age'].corr(Res['Survived'])) #коэффициент корреляции между возрастом и выжившими\n",
    "print(\"%.2f\" % a1)\n",
    "print(\"%.2f\" % b1)\n",
    "print(\"%.2f\" % c1)"
   ]
  },
  {
   "cell_type": "code",
   "execution_count": 167,
   "metadata": {},
   "outputs": [
    {
     "data": {
      "text/plain": [
       "14.4542"
      ]
     },
     "execution_count": 167,
     "metadata": {},
     "output_type": "execute_result"
    }
   ],
   "source": [
    "#4.Посчитайте среднюю цену за билет и медиану.\n",
    "\n",
    "#Медиана\n",
    "ls2 = list(Res['Fare'])\n",
    "\n",
    "def median(lst):\n",
    "    n = len(lst)\n",
    "    if n < 1:\n",
    "            return None\n",
    "    if n % 2 == 1:\n",
    "            return sorted(lst)[n//2]\n",
    "    else:\n",
    "            return sum(sorted(lst)[n//2-1:n//2+1])/2.0\n",
    "\n",
    "median(ls2)"
   ]
  },
  {
   "cell_type": "code",
   "execution_count": 168,
   "metadata": {},
   "outputs": [
    {
     "data": {
      "text/plain": [
       "32.2042079685746"
      ]
     },
     "execution_count": 168,
     "metadata": {},
     "output_type": "execute_result"
    }
   ],
   "source": [
    "#Cредняя цена за билет\n",
    "def my_mean(values):\n",
    "    n = 0\n",
    "    Sum = 0.0\n",
    "    for v in values:\n",
    "        Sum += v\n",
    "        n += 1\n",
    "    return Sum / n\n",
    "\n",
    "\n",
    "my_mean(ls2)"
   ]
  },
  {
   "cell_type": "code",
   "execution_count": 169,
   "metadata": {},
   "outputs": [
    {
     "name": "stdout",
     "output_type": "stream",
     "text": [
      "14.4542\n",
      "32.2042079685746\n"
     ]
    }
   ],
   "source": [
    "#или так =)\n",
    "md = Res['Fare'].median() #медиана\n",
    "mn = Res['Fare'].mean() #средняя цена билета\n",
    "print(md)\n",
    "print(mn)\n"
   ]
  },
  {
   "cell_type": "code",
   "execution_count": 211,
   "metadata": {},
   "outputs": [
    {
     "name": "stdout",
     "output_type": "stream",
     "text": [
      "Brown,\n",
      "Gustafsson,\n"
     ]
    }
   ],
   "source": [
    "#5.Какие самые популярные мужское и женские имена людей, старше 15 лет на корабле?\n",
    "\n",
    "Vozr = Res[Res.Age > 15][['Sex', 'Name', 'Age']] #отберём тех, у кого возраст больше 15 и добавим пол, имя\n",
    "Pol = Vozr[Vozr.Sex == 'female'][['Name', 'Age']] #теперь из тех, кто старше 15 выберем женщин\n",
    "Lop = Vozr[Vozr.Sex == 'male'][['Name', 'Age']] #а тут мужчин\n",
    "\n",
    "Lop = pd.DataFrame(Lop.Name.str.split(' ', 1).tolist()) #Разбивает строку на части, используя разделитель,\n",
    "                                                     #и возвращает эти части списком.\n",
    "Pol = pd.DataFrame(Pol.Name.str.split(' ', 1).tolist())\n",
    "\n",
    "print(Pol[0].value_counts().index[0]) #метод value_counts() выдаёт самые популярные имена людей на параходе  \n",
    "                                      #от большего к меньшему. Нам нужно самое популярное, поэтому мы берём только первую строку\n",
    "print(Lop[0].value_counts().index[0])"
   ]
  },
  {
   "cell_type": "code",
   "execution_count": null,
   "metadata": {
    "collapsed": true
   },
   "outputs": [],
   "source": []
  },
  {
   "cell_type": "code",
   "execution_count": null,
   "metadata": {
    "collapsed": true
   },
   "outputs": [],
   "source": []
  },
  {
   "cell_type": "code",
   "execution_count": null,
   "metadata": {
    "collapsed": true
   },
   "outputs": [],
   "source": []
  }
 ],
 "metadata": {
  "kernelspec": {
   "display_name": "Python 3",
   "language": "python",
   "name": "python3"
  },
  "language_info": {
   "codemirror_mode": {
    "name": "ipython",
    "version": 3
   },
   "file_extension": ".py",
   "mimetype": "text/x-python",
   "name": "python",
   "nbconvert_exporter": "python",
   "pygments_lexer": "ipython3",
   "version": "3.6.1"
  }
 },
 "nbformat": 4,
 "nbformat_minor": 2
}
